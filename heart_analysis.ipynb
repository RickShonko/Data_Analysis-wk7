{
 "cells": [
  {
   "cell_type": "markdown",
   "id": "94ca291a",
   "metadata": {},
   "source": [
    "\n",
    "# Analyzing Data with Pandas and Visualizing Results with Matplotlib\n",
    "\n",
    "### Assignment Solution  \n",
    "Dataset: **heart.csv**\n",
    "\n",
    "---\n",
    "\n",
    "### Objectives:\n",
    "- Load and explore the dataset using pandas  \n",
    "- Perform basic data analysis  \n",
    "- Create visualizations with matplotlib  \n"
   ]
  },
  {
   "cell_type": "markdown",
   "id": "5ac1b74c",
   "metadata": {},
   "source": [
    "## Task 1: Load and Explore the Dataset"
   ]
  },
  {
   "cell_type": "code",
   "execution_count": null,
   "id": "4d1dcda6",
   "metadata": {},
   "outputs": [],
   "source": [
    "\n",
    "import pandas as pd\n",
    "import matplotlib.pyplot as plt\n",
    "\n",
    "# Load dataset\n",
    "try:\n",
    "    df = pd.read_csv(\"heart.csv\")\n",
    "    print(\"✅ Dataset loaded successfully!\")\n",
    "except FileNotFoundError:\n",
    "    print(\"❌ Error: The file 'heart.csv' was not found.\")\n",
    "\n",
    "# Display first rows\n",
    "df.head()\n"
   ]
  },
  {
   "cell_type": "code",
   "execution_count": null,
   "id": "e9827537",
   "metadata": {},
   "outputs": [],
   "source": [
    "\n",
    "# Dataset info\n",
    "df.info()\n"
   ]
  },
  {
   "cell_type": "code",
   "execution_count": null,
   "id": "27d89521",
   "metadata": {},
   "outputs": [],
   "source": [
    "\n",
    "# Check for missing values\n",
    "df.isnull().sum()\n"
   ]
  },
  {
   "cell_type": "markdown",
   "id": "7568676a",
   "metadata": {},
   "source": [
    "## Task 2: Basic Data Analysis"
   ]
  },
  {
   "cell_type": "code",
   "execution_count": null,
   "id": "56439213",
   "metadata": {},
   "outputs": [],
   "source": [
    "\n",
    "# Basic statistics\n",
    "df.describe()\n"
   ]
  },
  {
   "cell_type": "code",
   "execution_count": null,
   "id": "18e2b080",
   "metadata": {},
   "outputs": [],
   "source": [
    "\n",
    "# Grouping: average cholesterol by sex (0 = female, 1 = male)\n",
    "avg_chol_by_sex = df.groupby(\"sex\")[\"chol\"].mean()\n",
    "avg_chol_by_sex\n"
   ]
  },
  {
   "cell_type": "code",
   "execution_count": null,
   "id": "bc777d4b",
   "metadata": {},
   "outputs": [],
   "source": [
    "\n",
    "# Grouping: average max heart rate by chest pain type\n",
    "avg_thalach_by_cp = df.groupby(\"cp\")[\"thalach\"].mean()\n",
    "avg_thalach_by_cp\n"
   ]
  },
  {
   "cell_type": "markdown",
   "id": "08f3d166",
   "metadata": {},
   "source": [
    "## Task 3: Data Visualization"
   ]
  },
  {
   "cell_type": "code",
   "execution_count": null,
   "id": "7ee9c995",
   "metadata": {},
   "outputs": [],
   "source": [
    "\n",
    "# 1. Line chart - Age vs. Cholesterol\n",
    "plt.figure(figsize=(8,5))\n",
    "plt.plot(df[\"age\"], df[\"chol\"], 'b.', alpha=0.5)\n",
    "plt.title(\"Age vs Cholesterol Levels\")\n",
    "plt.xlabel(\"Age\")\n",
    "plt.ylabel(\"Cholesterol\")\n",
    "plt.grid(True)\n",
    "plt.show()\n"
   ]
  },
  {
   "cell_type": "code",
   "execution_count": null,
   "id": "369518b8",
   "metadata": {},
   "outputs": [],
   "source": [
    "\n",
    "# 2. Bar chart - Average Cholesterol by Sex\n",
    "avg_chol_by_sex.plot(kind=\"bar\", color=[\"pink\", \"blue\"], figsize=(6,4))\n",
    "plt.title(\"Average Cholesterol by Sex\")\n",
    "plt.xlabel(\"Sex (0=Female, 1=Male)\")\n",
    "plt.ylabel(\"Average Cholesterol\")\n",
    "plt.show()\n"
   ]
  },
  {
   "cell_type": "code",
   "execution_count": null,
   "id": "b007d6e8",
   "metadata": {},
   "outputs": [],
   "source": [
    "\n",
    "# 3. Histogram - Distribution of Cholesterol\n",
    "plt.figure(figsize=(8,5))\n",
    "plt.hist(df[\"chol\"], bins=20, color=\"orange\", edgecolor=\"black\")\n",
    "plt.title(\"Distribution of Cholesterol\")\n",
    "plt.xlabel(\"Cholesterol\")\n",
    "plt.ylabel(\"Frequency\")\n",
    "plt.show()\n"
   ]
  },
  {
   "cell_type": "code",
   "execution_count": null,
   "id": "95b1ba26",
   "metadata": {},
   "outputs": [],
   "source": [
    "\n",
    "# 4. Scatter Plot - Age vs Max Heart Rate\n",
    "plt.figure(figsize=(8,5))\n",
    "plt.scatter(df[\"age\"], df[\"thalach\"], c=df[\"target\"], cmap=\"coolwarm\", alpha=0.7)\n",
    "plt.title(\"Age vs Max Heart Rate (Colored by Target)\")\n",
    "plt.xlabel(\"Age\")\n",
    "plt.ylabel(\"Max Heart Rate (thalach)\")\n",
    "plt.colorbar(label=\"Target (1=Heart Disease, 0=No Disease)\")\n",
    "plt.show()\n"
   ]
  },
  {
   "cell_type": "markdown",
   "id": "a7fdefc3",
   "metadata": {},
   "source": [
    "✅ **Analysis and Visualization Complete!**"
   ]
  }
 ],
 "metadata": {},
 "nbformat": 4,
 "nbformat_minor": 5
}